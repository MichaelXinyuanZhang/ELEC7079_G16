{
 "cells": [
  {
   "cell_type": "code",
   "execution_count": 1,
   "id": "9f05587e",
   "metadata": {},
   "outputs": [
    {
     "data": {
      "text/html": [
       "<style>.container { width:100% !important; }</style>"
      ],
      "text/plain": [
       "<IPython.core.display.HTML object>"
      ]
     },
     "metadata": {},
     "output_type": "display_data"
    }
   ],
   "source": [
    "import numpy as np\n",
    "import pandas as pd\n",
    "import datetime as dt\n",
    "from scipy import stats as st\n",
    "import matplotlib.pyplot as plt\n",
    "from IPython.core.display import display, HTML\n",
    "display(HTML(\"<style>.container { width:100% !important; }</style>\"))"
   ]
  },
  {
   "cell_type": "code",
   "execution_count": null,
   "id": "bc64c3fe",
   "metadata": {},
   "outputs": [],
   "source": []
  },
  {
   "cell_type": "markdown",
   "id": "091c35cd",
   "metadata": {},
   "source": [
    "### Data Alignment"
   ]
  },
  {
   "cell_type": "code",
   "execution_count": 2,
   "id": "f8fdd0a5",
   "metadata": {
    "scrolled": true
   },
   "outputs": [
    {
     "name": "stdout",
     "output_type": "stream",
     "text": [
      "Time Series 1 - Daily Mean:\n",
      "2021-01-01    0.063267\n",
      "2021-01-02   -0.062647\n",
      "2021-01-03   -0.272232\n",
      "2021-01-04   -0.302300\n",
      "2021-01-05   -0.104444\n",
      "2021-01-06    0.209437\n",
      "2021-01-07    0.054171\n",
      "2021-01-08   -0.047350\n",
      "2021-01-09   -0.229668\n",
      "2021-01-10    1.563347\n",
      "Freq: D, dtype: float64\n",
      "\n",
      "Time Series 2 - 6-Hour Sum:\n",
      "2021-01-01 00:00:00    1.882279\n",
      "2021-01-01 06:00:00    0.987209\n",
      "2021-01-01 12:00:00   -0.940157\n",
      "2021-01-01 18:00:00   -1.712218\n",
      "2021-01-02 00:00:00   -0.002827\n",
      "2021-01-02 06:00:00   -1.478369\n",
      "2021-01-02 12:00:00    1.439043\n",
      "2021-01-02 18:00:00    0.810550\n",
      "2021-01-03 00:00:00    0.096464\n",
      "2021-01-03 06:00:00   -0.680911\n",
      "2021-01-03 12:00:00    0.084237\n",
      "2021-01-03 18:00:00    2.030969\n",
      "2021-01-04 00:00:00   -0.159510\n",
      "2021-01-04 06:00:00   -0.601649\n",
      "2021-01-04 12:00:00    0.097495\n",
      "2021-01-04 18:00:00   -0.452533\n",
      "2021-01-05 00:00:00    0.664383\n",
      "2021-01-05 06:00:00    0.819209\n",
      "2021-01-05 12:00:00    3.108615\n",
      "2021-01-05 18:00:00    0.859676\n",
      "2021-01-06 00:00:00    1.272370\n",
      "2021-01-06 06:00:00   -1.301171\n",
      "2021-01-06 12:00:00    0.585771\n",
      "2021-01-06 18:00:00    2.209971\n",
      "2021-01-07 00:00:00    2.148589\n",
      "2021-01-07 06:00:00   -1.307762\n",
      "2021-01-07 12:00:00   -2.195602\n",
      "2021-01-07 18:00:00   -1.262916\n",
      "2021-01-08 00:00:00    1.705295\n",
      "2021-01-08 06:00:00   -0.607615\n",
      "2021-01-08 12:00:00    0.386588\n",
      "2021-01-08 18:00:00    0.654908\n",
      "2021-01-09 00:00:00   -2.346701\n",
      "2021-01-09 06:00:00   -0.391034\n",
      "2021-01-09 12:00:00   -0.262246\n",
      "2021-01-09 18:00:00   -1.072056\n",
      "2021-01-10 00:00:00    0.091878\n",
      "Freq: 6H, dtype: float64\n",
      "\n",
      "Aligned Time Series 1:\n",
      "2021-01-01 00:00:00    1.882279\n",
      "2021-01-01 06:00:00    0.987209\n",
      "2021-01-01 12:00:00   -0.940157\n",
      "2021-01-01 18:00:00   -1.712218\n",
      "2021-01-02 00:00:00   -0.002827\n",
      "2021-01-02 06:00:00   -1.478369\n",
      "2021-01-02 12:00:00    1.439043\n",
      "2021-01-02 18:00:00    0.810550\n",
      "2021-01-03 00:00:00    0.096464\n",
      "2021-01-03 06:00:00   -0.680911\n",
      "2021-01-03 12:00:00    0.084237\n",
      "2021-01-03 18:00:00    2.030969\n",
      "2021-01-04 00:00:00   -0.159510\n",
      "2021-01-04 06:00:00   -0.601649\n",
      "2021-01-04 12:00:00    0.097495\n",
      "2021-01-04 18:00:00   -0.452533\n",
      "2021-01-05 00:00:00    0.664383\n",
      "2021-01-05 06:00:00    0.819209\n",
      "2021-01-05 12:00:00    3.108615\n",
      "2021-01-05 18:00:00    0.859676\n",
      "2021-01-06 00:00:00    1.272370\n",
      "2021-01-06 06:00:00   -1.301171\n",
      "2021-01-06 12:00:00    0.585771\n",
      "2021-01-06 18:00:00    2.209971\n",
      "2021-01-07 00:00:00    2.148589\n",
      "2021-01-07 06:00:00   -1.307762\n",
      "2021-01-07 12:00:00   -2.195602\n",
      "2021-01-07 18:00:00   -1.262916\n",
      "2021-01-08 00:00:00    1.705295\n",
      "2021-01-08 06:00:00   -0.607615\n",
      "2021-01-08 12:00:00    0.386588\n",
      "2021-01-08 18:00:00    0.654908\n",
      "2021-01-09 00:00:00   -2.346701\n",
      "2021-01-09 06:00:00   -0.391034\n",
      "2021-01-09 12:00:00   -0.262246\n",
      "2021-01-09 18:00:00   -1.072056\n",
      "2021-01-10 00:00:00    0.091878\n",
      "dtype: float64\n",
      "\n",
      "Aligned Time Series 2:\n",
      "2021-01-01 00:00:00    0.063267\n",
      "2021-01-01 06:00:00    0.063267\n",
      "2021-01-01 12:00:00    0.063267\n",
      "2021-01-01 18:00:00    0.063267\n",
      "2021-01-02 00:00:00   -0.062647\n",
      "2021-01-02 06:00:00   -0.062647\n",
      "2021-01-02 12:00:00   -0.062647\n",
      "2021-01-02 18:00:00   -0.062647\n",
      "2021-01-03 00:00:00   -0.272232\n",
      "2021-01-03 06:00:00   -0.272232\n",
      "2021-01-03 12:00:00   -0.272232\n",
      "2021-01-03 18:00:00   -0.272232\n",
      "2021-01-04 00:00:00   -0.302300\n",
      "2021-01-04 06:00:00   -0.302300\n",
      "2021-01-04 12:00:00   -0.302300\n",
      "2021-01-04 18:00:00   -0.302300\n",
      "2021-01-05 00:00:00   -0.104444\n",
      "2021-01-05 06:00:00   -0.104444\n",
      "2021-01-05 12:00:00   -0.104444\n",
      "2021-01-05 18:00:00   -0.104444\n",
      "2021-01-06 00:00:00    0.209437\n",
      "2021-01-06 06:00:00    0.209437\n",
      "2021-01-06 12:00:00    0.209437\n",
      "2021-01-06 18:00:00    0.209437\n",
      "2021-01-07 00:00:00    0.054171\n",
      "2021-01-07 06:00:00    0.054171\n",
      "2021-01-07 12:00:00    0.054171\n",
      "2021-01-07 18:00:00    0.054171\n",
      "2021-01-08 00:00:00   -0.047350\n",
      "2021-01-08 06:00:00   -0.047350\n",
      "2021-01-08 12:00:00   -0.047350\n",
      "2021-01-08 18:00:00   -0.047350\n",
      "2021-01-09 00:00:00   -0.229668\n",
      "2021-01-09 06:00:00   -0.229668\n",
      "2021-01-09 12:00:00   -0.229668\n",
      "2021-01-09 18:00:00   -0.229668\n",
      "2021-01-10 00:00:00    1.563347\n",
      "dtype: float64\n"
     ]
    }
   ],
   "source": [
    "# Create a date range\n",
    "date_range = pd.date_range(start='2021-01-01', end='2021-01-10', freq='H')\n",
    "\n",
    "# Generate two time series with different frequencies\n",
    "ts1 = pd.Series(np.random.randn(len(date_range)), index=date_range)\n",
    "ts2 = pd.Series(np.random.randn(len(date_range[::3])), index=date_range[::3])\n",
    "\n",
    "# Resampling\n",
    "# Resample ts1 to daily frequency using mean aggregation\n",
    "ts1_daily = ts1.resample('D').mean()\n",
    "print(\"Time Series 1 - Daily Mean:\")\n",
    "print(ts1_daily)\n",
    "\n",
    "# Resample ts2 to 6-hour frequency using sum aggregation\n",
    "ts2_6h = ts2.resample('6H').sum()\n",
    "print(\"\\nTime Series 2 - 6-Hour Sum:\")\n",
    "print(ts2_6h)\n",
    "\n",
    "# Data Alignment\n",
    "# Align ts1_daily and ts2_6h using forward fill (ffill) method for missing values\n",
    "# aligned_ts1, aligned_ts2 = ts1_daily.align(ts2_6h, method='ffill')\n",
    "aligned_ts1, aligned_ts2 = ts2_6h.align(ts1_daily, method='ffill')\n",
    "\n",
    "\n",
    "print(\"\\nAligned Time Series 1:\")\n",
    "print(aligned_ts1)\n",
    "print(\"\\nAligned Time Series 2:\")\n",
    "print(aligned_ts2)"
   ]
  },
  {
   "cell_type": "code",
   "execution_count": null,
   "id": "a7108030",
   "metadata": {},
   "outputs": [],
   "source": []
  },
  {
   "cell_type": "code",
   "execution_count": null,
   "id": "b5bbd890",
   "metadata": {},
   "outputs": [],
   "source": []
  },
  {
   "cell_type": "code",
   "execution_count": null,
   "id": "a88ddc61",
   "metadata": {},
   "outputs": [],
   "source": []
  },
  {
   "cell_type": "markdown",
   "id": "057102aa",
   "metadata": {},
   "source": [
    "## Data Transformation"
   ]
  },
  {
   "cell_type": "code",
   "execution_count": 3,
   "id": "34241f6d",
   "metadata": {},
   "outputs": [],
   "source": [
    "# Set the parameters for the Gaussian distribution\n",
    "mean = 50\n",
    "std_dev = 10\n",
    "NUM_SAMPLE = 10000\n",
    "\n",
    "# Create a random number generator\n",
    "rng = np.random.default_rng()\n",
    "\n",
    "# Generate normally distributed random numbers\n",
    "gaussian_numbers = rng.normal(mean, std_dev, NUM_SAMPLE)\n",
    "\n",
    "# Round the numbers to integers\n",
    "data_sample = np.round(gaussian_numbers).astype(int)"
   ]
  },
  {
   "cell_type": "code",
   "execution_count": 4,
   "id": "4dc72089",
   "metadata": {},
   "outputs": [
    {
     "name": "stdout",
     "output_type": "stream",
     "text": [
      "Max:88\n",
      "Min:11\n",
      "Mean:50.1699\n",
      "Median:50.0\n",
      "Mode:ModeResult(mode=array([50]), count=array([435]))\n"
     ]
    }
   ],
   "source": [
    "print(f\"Max:{max(data_sample)}\")\n",
    "print(f\"Min:{min(data_sample)}\")\n",
    "\n",
    "print(f\"Mean:{np.mean(data_sample)}\")\n",
    "print(f\"Median:{np.median(data_sample)}\")\n",
    "print(f\"Mode:{st.mode(data_sample)}\")"
   ]
  },
  {
   "cell_type": "code",
   "execution_count": 5,
   "id": "c52b9fa1",
   "metadata": {},
   "outputs": [
    {
     "data": {
      "image/png": "[encoded data removed]",
      "text/plain": [
       "<Figure size 1080x432 with 1 Axes>"
      ]
     },
     "metadata": {
      "needs_background": "light"
     },
     "output_type": "display_data"
    }
   ],
   "source": [
    "plt.figure(figsize=(15, 6))\n",
    "# Plot the histogram\n",
    "plt.hist(data_sample, bins=(max(data_sample)-min(data_sample)),range=(min(data_sample), max(data_sample)), edgecolor='black', alpha=0.75)\n",
    "\n",
    "# Add labels and title\n",
    "plt.xlabel('Value')\n",
    "plt.ylabel('Frequency')\n",
    "plt.title('Histogram')\n",
    "\n",
    "plt.grid()\n",
    "# Show the plot\n",
    "plt.show()"
   ]
  },
  {
   "cell_type": "code",
   "execution_count": 6,
   "id": "7894434d",
   "metadata": {},
   "outputs": [],
   "source": [
    "# normalization\n",
    "normalized_data = (data_sample.astype(float)-np.min(data_sample))/(np.max(data_sample)-np.min(data_sample))\n",
    "# standardization\n",
    "standardized_data = (data_sample.astype(float)-np.mean(data_sample))/np.std(data_sample)\n"
   ]
  },
  {
   "cell_type": "code",
   "execution_count": 7,
   "id": "2722f2b3",
   "metadata": {},
   "outputs": [
    {
     "data": {
      "image/png": "[encoded data removed]",
      "text/plain": [
       "<Figure size 1080x432 with 1 Axes>"
      ]
     },
     "metadata": {
      "needs_background": "light"
     },
     "output_type": "display_data"
    }
   ],
   "source": [
    "plt.figure(figsize=(15, 6))\n",
    "plt.hist(normalized_data, bins=100,range=(0, 1), edgecolor='black', alpha=0.75)\n",
    "\n",
    "plt.xlabel('Value')\n",
    "plt.ylabel('Frequency')\n",
    "plt.title('Histogram')\n",
    "\n",
    "plt.grid()\n",
    "# Show the plot\n",
    "plt.show()"
   ]
  },
  {
   "cell_type": "code",
   "execution_count": 8,
   "id": "fb468bb7",
   "metadata": {},
   "outputs": [
    {
     "data": {
      "image/png": "[encoded data removed]",
      "text/plain": [
       "<Figure size 1080x432 with 1 Axes>"
      ]
     },
     "metadata": {
      "needs_background": "light"
     },
     "output_type": "display_data"
    }
   ],
   "source": [
    "plt.figure(figsize=(15, 6))\n",
    "plt.hist(standardized_data, bins=100,range=(-3, 3), edgecolor='black', alpha=0.75)\n",
    "\n",
    "plt.xlabel('Value')\n",
    "plt.ylabel('Frequency')\n",
    "plt.title('Histogram')\n",
    "\n",
    "plt.grid()\n",
    "# Show the plot\n",
    "plt.show()"
   ]
  },
  {
   "cell_type": "code",
   "execution_count": null,
   "id": "35cc497b",
   "metadata": {},
   "outputs": [],
   "source": []
  },
  {
   "cell_type": "markdown",
   "id": "75e3acc8",
   "metadata": {},
   "source": [
    "### Outlier"
   ]
  },
  {
   "cell_type": "code",
   "execution_count": 9,
   "id": "2ea9a1ce",
   "metadata": {},
   "outputs": [],
   "source": [
    "new_data_sample = [v for v in data_sample]\n",
    "new_data_sample[-1] = 150"
   ]
  },
  {
   "cell_type": "code",
   "execution_count": 10,
   "id": "6cdd72e1",
   "metadata": {},
   "outputs": [
    {
     "name": "stdout",
     "output_type": "stream",
     "text": [
      "Max:150\n",
      "Min:11\n",
      "Mean:50.1789\n",
      "Median:50.0\n",
      "Mode:ModeResult(mode=array([50]), count=array([435]))\n"
     ]
    }
   ],
   "source": [
    "print(f\"Max:{max(new_data_sample)}\")\n",
    "print(f\"Min:{min(new_data_sample)}\")\n",
    "\n",
    "print(f\"Mean:{np.mean(new_data_sample)}\")\n",
    "print(f\"Median:{np.median(new_data_sample)}\")\n",
    "print(f\"Mode:{st.mode(new_data_sample)}\")"
   ]
  },
  {
   "cell_type": "code",
   "execution_count": 11,
   "id": "4ec943f2",
   "metadata": {},
   "outputs": [
    {
     "data": {
      "image/png": "[encoded data removed]",
      "text/plain": [
       "<Figure size 1080x432 with 1 Axes>"
      ]
     },
     "metadata": {
      "needs_background": "light"
     },
     "output_type": "display_data"
    }
   ],
   "source": [
    "plt.figure(figsize=(15, 6))\n",
    "# Plot the histogram\n",
    "plt.hist(data_sample, bins=(max(new_data_sample)-min(new_data_sample)),range=(min(new_data_sample), max(new_data_sample)), edgecolor='black', alpha=0.75)\n",
    "# Add labels and title\n",
    "plt.xlabel('Value')\n",
    "plt.ylabel('Frequency')\n",
    "plt.title('Histogram')\n",
    "plt.grid()\n",
    "# Show the plot\n",
    "plt.show()"
   ]
  },
  {
   "cell_type": "code",
   "execution_count": 12,
   "id": "8292db5d",
   "metadata": {},
   "outputs": [],
   "source": [
    "# normalization\n",
    "normalized_data = (new_data_sample-np.min(new_data_sample))/(np.max(new_data_sample)-np.min(new_data_sample))\n",
    "# standardization\n",
    "standardized_data = (new_data_sample-np.mean(new_data_sample))/np.std(new_data_sample)\n"
   ]
  },
  {
   "cell_type": "code",
   "execution_count": 13,
   "id": "57683506",
   "metadata": {},
   "outputs": [
    {
     "data": {
      "image/png": "[encoded data removed]",
      "text/plain": [
       "<Figure size 1080x432 with 1 Axes>"
      ]
     },
     "metadata": {
      "needs_background": "light"
     },
     "output_type": "display_data"
    }
   ],
   "source": [
    "plt.figure(figsize=(15, 6))\n",
    "plt.hist(normalized_data, bins=100,range=(0, 1), edgecolor='black', alpha=0.75)\n",
    "\n",
    "plt.xlabel('Value')\n",
    "plt.ylabel('Frequency')\n",
    "plt.title('Histogram')\n",
    "\n",
    "plt.grid()\n",
    "# Show the plot\n",
    "plt.show()"
   ]
  },
  {
   "cell_type": "code",
   "execution_count": 14,
   "id": "400d688c",
   "metadata": {},
   "outputs": [
    {
     "data": {
      "image/png": "[encoded data removed]",
      "text/plain": [
       "<Figure size 1080x432 with 1 Axes>"
      ]
     },
     "metadata": {
      "needs_background": "light"
     },
     "output_type": "display_data"
    }
   ],
   "source": [
    "plt.figure(figsize=(15, 6))\n",
    "plt.hist(standardized_data, bins=100,range=(-3, 3), edgecolor='black', alpha=0.75)\n",
    "\n",
    "plt.xlabel('Value')\n",
    "plt.ylabel('Frequency')\n",
    "plt.title('Histogram')\n",
    "\n",
    "plt.grid()\n",
    "# Show the plot\n",
    "plt.show()"
   ]
  },
  {
   "cell_type": "code",
   "execution_count": null,
   "id": "81d80ced",
   "metadata": {},
   "outputs": [],
   "source": []
  },
  {
   "cell_type": "code",
   "execution_count": null,
   "id": "ca9bc7a7",
   "metadata": {},
   "outputs": [],
   "source": []
  },
  {
   "cell_type": "code",
   "execution_count": null,
   "id": "0b311545",
   "metadata": {},
   "outputs": [],
   "source": []
  },
  {
   "cell_type": "code",
   "execution_count": null,
   "id": "61207b1b",
   "metadata": {},
   "outputs": [],
   "source": []
  },
  {
   "cell_type": "code",
   "execution_count": null,
   "id": "b78f307e",
   "metadata": {},
   "outputs": [],
   "source": []
  },
  {
   "cell_type": "code",
   "execution_count": null,
   "id": "c2b5502a",
   "metadata": {},
   "outputs": [],
   "source": []
  },
  {
   "cell_type": "markdown",
   "id": "f6eee3d7",
   "metadata": {},
   "source": [
    "## Descriptive statistics"
   ]
  },
  {
   "cell_type": "code",
   "execution_count": 15,
   "id": "3e22eb6c",
   "metadata": {},
   "outputs": [],
   "source": [
    "# Generate data\n",
    "# Number of iPhone sold by Roger each day\n",
    "NUM_DAYS = 100000\n",
    "MIN_VALUE = 0\n",
    "MAX_VALUE = 150"
   ]
  },
  {
   "cell_type": "markdown",
   "id": "443b6c98",
   "metadata": {},
   "source": [
    "### Uniform distribution"
   ]
  },
  {
   "cell_type": "code",
   "execution_count": 16,
   "id": "1e9fe26a",
   "metadata": {},
   "outputs": [],
   "source": [
    "daily_iphone_sold = np.random.randint(MIN_VALUE, MAX_VALUE, NUM_DAYS)"
   ]
  },
  {
   "cell_type": "code",
   "execution_count": 17,
   "id": "0f792b0c",
   "metadata": {},
   "outputs": [
    {
     "data": {
      "text/plain": [
       "74.55719"
      ]
     },
     "execution_count": 17,
     "metadata": {},
     "output_type": "execute_result"
    }
   ],
   "source": [
    "daily_iphone_sold.mean()"
   ]
  },
  {
   "cell_type": "code",
   "execution_count": 18,
   "id": "eccc78bf",
   "metadata": {},
   "outputs": [
    {
     "data": {
      "text/plain": [
       "75.0"
      ]
     },
     "execution_count": 18,
     "metadata": {},
     "output_type": "execute_result"
    }
   ],
   "source": [
    "np.median(daily_iphone_sold)"
   ]
  },
  {
   "cell_type": "code",
   "execution_count": 19,
   "id": "fc897d80",
   "metadata": {},
   "outputs": [
    {
     "data": {
      "text/plain": [
       "ModeResult(mode=array([112]), count=array([732]))"
      ]
     },
     "execution_count": 19,
     "metadata": {},
     "output_type": "execute_result"
    }
   ],
   "source": [
    "st.mode(daily_iphone_sold)"
   ]
  },
  {
   "cell_type": "code",
   "execution_count": 20,
   "id": "a3c86a95",
   "metadata": {},
   "outputs": [
    {
     "data": {
      "text/plain": [
       "(array([6713, 6599, 6658, 6718, 6595, 6722, 6663, 6649, 6621, 6489, 6764,\n",
       "        6789, 6656, 6787, 6577]),\n",
       " array([  0.,  10.,  20.,  30.,  40.,  50.,  60.,  70.,  80.,  90., 100.,\n",
       "        110., 120., 130., 140., 150.]))"
      ]
     },
     "execution_count": 20,
     "metadata": {},
     "output_type": "execute_result"
    }
   ],
   "source": [
    "np.histogram(daily_iphone_sold, range=(MIN_VALUE, MAX_VALUE), bins=int((MAX_VALUE-MIN_VALUE)/10))"
   ]
  },
  {
   "cell_type": "code",
   "execution_count": 21,
   "id": "a6cef6aa",
   "metadata": {},
   "outputs": [
    {
     "data": {
      "image/png": "[encoded data removed]",
      "text/plain": [
       "<Figure size 1080x432 with 1 Axes>"
      ]
     },
     "metadata": {
      "needs_background": "light"
     },
     "output_type": "display_data"
    }
   ],
   "source": [
    "plt.figure(figsize=(15, 6))\n",
    "# Plot the histogram\n",
    "plt.hist(daily_iphone_sold, bins=(MAX_VALUE-MIN_VALUE),range=(MIN_VALUE, MAX_VALUE), edgecolor='black', alpha=0.75)\n",
    "\n",
    "# Add labels and title\n",
    "plt.xlabel('Value')\n",
    "plt.ylabel('Frequency')\n",
    "plt.title('Histogram')\n",
    "\n",
    "plt.grid()\n",
    "# Show the plot\n",
    "plt.show()"
   ]
  },
  {
   "cell_type": "code",
   "execution_count": null,
   "id": "bda8c412",
   "metadata": {},
   "outputs": [],
   "source": []
  },
  {
   "cell_type": "code",
   "execution_count": null,
   "id": "729d5eb2",
   "metadata": {},
   "outputs": [],
   "source": []
  },
  {
   "cell_type": "markdown",
   "id": "b1f4b5a4",
   "metadata": {},
   "source": [
    "### Gaussian "
   ]
  },
  {
   "cell_type": "code",
   "execution_count": 22,
   "id": "3d0387d6",
   "metadata": {},
   "outputs": [],
   "source": [
    "# Set the parameters for the Gaussian distribution\n",
    "mean = (MAX_VALUE-MIN_VALUE)/2\n",
    "std_dev = 15\n",
    "\n",
    "# Create a random number generator\n",
    "rng = np.random.default_rng()\n",
    "\n",
    "# Generate normally distributed random numbers\n",
    "gaussian_numbers = rng.normal(mean, std_dev, NUM_DAYS)\n",
    "\n",
    "# Round the numbers to integers\n",
    "daily_iphone_sold = np.round(gaussian_numbers).astype(int)\n",
    "\n",
    "# Clip the values to the range [MIN_VALUE, MAX_VALUE]\n",
    "daily_iphone_sold = np.clip(daily_iphone_sold, MIN_VALUE, MAX_VALUE)\n"
   ]
  },
  {
   "cell_type": "code",
   "execution_count": 23,
   "id": "79429454",
   "metadata": {},
   "outputs": [
    {
     "data": {
      "text/plain": [
       "74.9915"
      ]
     },
     "execution_count": 23,
     "metadata": {},
     "output_type": "execute_result"
    }
   ],
   "source": [
    "daily_iphone_sold.mean()"
   ]
  },
  {
   "cell_type": "code",
   "execution_count": 24,
   "id": "d389ab54",
   "metadata": {},
   "outputs": [
    {
     "data": {
      "text/plain": [
       "75.0"
      ]
     },
     "execution_count": 24,
     "metadata": {},
     "output_type": "execute_result"
    }
   ],
   "source": [
    "np.median(daily_iphone_sold)"
   ]
  },
  {
   "cell_type": "code",
   "execution_count": 25,
   "id": "2c38bac8",
   "metadata": {},
   "outputs": [
    {
     "data": {
      "text/plain": [
       "ModeResult(mode=array([75]), count=array([2728]))"
      ]
     },
     "execution_count": 25,
     "metadata": {},
     "output_type": "execute_result"
    }
   ],
   "source": [
    "st.mode(daily_iphone_sold)"
   ]
  },
  {
   "cell_type": "code",
   "execution_count": 26,
   "id": "9cab1608",
   "metadata": {},
   "outputs": [
    {
     "data": {
      "text/plain": [
       "(array([    1,     8,   109,   782,  3598, 10641, 20602, 25989, 21616,\n",
       "        11546,  4059,   906,   124,    17,     2]),\n",
       " array([  0.,  10.,  20.,  30.,  40.,  50.,  60.,  70.,  80.,  90., 100.,\n",
       "        110., 120., 130., 140., 150.]))"
      ]
     },
     "execution_count": 26,
     "metadata": {},
     "output_type": "execute_result"
    }
   ],
   "source": [
    "np.histogram(daily_iphone_sold, range=(MIN_VALUE, MAX_VALUE), bins=15)"
   ]
  },
  {
   "cell_type": "code",
   "execution_count": 27,
   "id": "a83a505f",
   "metadata": {},
   "outputs": [],
   "source": [
    "from collections import Counter"
   ]
  },
  {
   "cell_type": "code",
   "execution_count": 28,
   "id": "a190ed92",
   "metadata": {},
   "outputs": [
    {
     "name": "stdout",
     "output_type": "stream",
     "text": [
      "Top 5 numbers with the highest appearance: [(75, 2728), (76, 2678), (73, 2624), (71, 2602), (78, 2592)]\n"
     ]
    }
   ],
   "source": [
    "# Count the occurrences of each number using collections.Counter\n",
    "counter = Counter(daily_iphone_sold)\n",
    "# Get the top N numbers with the highest appearance\n",
    "N = 5\n",
    "top_n_numbers = counter.most_common(N)\n",
    "\n",
    "# Print the top N numbers\n",
    "print(f\"Top {N} numbers with the highest appearance: {top_n_numbers}\")"
   ]
  },
  {
   "cell_type": "code",
   "execution_count": 29,
   "id": "a4fbb114",
   "metadata": {},
   "outputs": [
    {
     "data": {
      "image/png": "[encoded data removed]",
      "text/plain": [
       "<Figure size 1080x432 with 1 Axes>"
      ]
     },
     "metadata": {
      "needs_background": "light"
     },
     "output_type": "display_data"
    }
   ],
   "source": [
    "plt.figure(figsize=(15, 6))\n",
    "# Plot the histogram\n",
    "plt.hist(daily_iphone_sold, bins=(MAX_VALUE-MIN_VALUE),range=(MIN_VALUE, MAX_VALUE), edgecolor='black', alpha=0.75)\n",
    "\n",
    "# Add labels and title\n",
    "plt.xlabel('Value')\n",
    "plt.ylabel('Frequency')\n",
    "plt.title('Histogram')\n",
    "\n",
    "plt.grid()\n",
    "# Show the plot\n",
    "plt.show()"
   ]
  },
  {
   "cell_type": "code",
   "execution_count": null,
   "id": "3e3eb935",
   "metadata": {},
   "outputs": [],
   "source": []
  },
  {
   "cell_type": "markdown",
   "id": "196f989a",
   "metadata": {},
   "source": [
    "### Log-Normal distribution"
   ]
  },
  {
   "cell_type": "code",
   "execution_count": 30,
   "id": "805f1204",
   "metadata": {},
   "outputs": [
    {
     "name": "stdout",
     "output_type": "stream",
     "text": [
      "First 10 samples: [21 39 42 54 39 14 19 23 28 31]\n"
     ]
    }
   ],
   "source": [
    "\n",
    "# Set the mean and standard deviation of the underlying normal distribution\n",
    "mean = 1\n",
    "std_dev = 0.5\n",
    "\n",
    "# Generate random samples from the log-normal distribution\n",
    "daily_iphone_sold = np.random.lognormal(mean, std_dev, NUM_DAYS)*10\n",
    "\n",
    "# Convert the samples to integers\n",
    "daily_iphone_sold = daily_iphone_sold.astype(int)\n",
    "daily_iphone_sold = np.clip(daily_iphone_sold, MIN_VALUE, MAX_VALUE)\n",
    "\n",
    "# Print the first 10 samples\n",
    "print(\"First 10 samples:\", daily_iphone_sold[:10])"
   ]
  },
  {
   "cell_type": "code",
   "execution_count": 31,
   "id": "f4bb8961",
   "metadata": {},
   "outputs": [
    {
     "data": {
      "text/plain": [
       "30.35196"
      ]
     },
     "execution_count": 31,
     "metadata": {},
     "output_type": "execute_result"
    }
   ],
   "source": [
    "daily_iphone_sold.mean()"
   ]
  },
  {
   "cell_type": "code",
   "execution_count": 32,
   "id": "ff98bab4",
   "metadata": {},
   "outputs": [
    {
     "data": {
      "text/plain": [
       "27.0"
      ]
     },
     "execution_count": 32,
     "metadata": {},
     "output_type": "execute_result"
    }
   ],
   "source": [
    "np.median(daily_iphone_sold)"
   ]
  },
  {
   "cell_type": "code",
   "execution_count": 33,
   "id": "022a04bd",
   "metadata": {},
   "outputs": [
    {
     "data": {
      "text/plain": [
       "ModeResult(mode=array([21]), count=array([3362]))"
      ]
     },
     "execution_count": 33,
     "metadata": {},
     "output_type": "execute_result"
    }
   ],
   "source": [
    "st.mode(daily_iphone_sold)"
   ]
  },
  {
   "cell_type": "code",
   "execution_count": 34,
   "id": "f87ebc9b",
   "metadata": {},
   "outputs": [
    {
     "data": {
      "text/plain": [
       "(array([ 2262, 24570, 30922, 20202, 10806,  5508,  2790,  1400,   678,\n",
       "          370,   225,   105,    55,    44,    63]),\n",
       " array([  0.,  10.,  20.,  30.,  40.,  50.,  60.,  70.,  80.,  90., 100.,\n",
       "        110., 120., 130., 140., 150.]))"
      ]
     },
     "execution_count": 34,
     "metadata": {},
     "output_type": "execute_result"
    }
   ],
   "source": [
    "np.histogram(daily_iphone_sold, range=(MIN_VALUE, MAX_VALUE), bins=15)"
   ]
  },
  {
   "cell_type": "code",
   "execution_count": 35,
   "id": "06c37fc0",
   "metadata": {},
   "outputs": [
    {
     "name": "stdout",
     "output_type": "stream",
     "text": [
      "Top 5 numbers with the highest appearance: [(21, 3362), (22, 3327), (23, 3303), (19, 3262), (24, 3227)]\n"
     ]
    }
   ],
   "source": [
    "# Count the occurrences of each number using collections.Counter\n",
    "counter = Counter(daily_iphone_sold)\n",
    "# Get the top N numbers with the highest appearance\n",
    "N = 5\n",
    "top_n_numbers = counter.most_common(N)\n",
    "\n",
    "# Print the top N numbers\n",
    "print(f\"Top {N} numbers with the highest appearance: {top_n_numbers}\")"
   ]
  },
  {
   "cell_type": "code",
   "execution_count": 36,
   "id": "99be39ec",
   "metadata": {},
   "outputs": [
    {
     "data": {
      "image/png": "[encoded data removed]",
      "text/plain": [
       "<Figure size 1080x432 with 1 Axes>"
      ]
     },
     "metadata": {
      "needs_background": "light"
     },
     "output_type": "display_data"
    }
   ],
   "source": [
    "plt.figure(figsize=(15, 6))\n",
    "# Plot the histogram\n",
    "plt.hist(daily_iphone_sold, bins=(MAX_VALUE-MIN_VALUE),range=(MIN_VALUE, MAX_VALUE), edgecolor='black', alpha=0.75)\n",
    "\n",
    "# Add labels and title\n",
    "plt.xlabel('Value')\n",
    "plt.ylabel('Frequency')\n",
    "plt.title('Histogram')\n",
    "\n",
    "plt.grid()\n",
    "# Show the plot\n",
    "plt.show()"
   ]
  },
  {
   "cell_type": "code",
   "execution_count": null,
   "id": "34d6c5c4",
   "metadata": {},
   "outputs": [],
   "source": []
  },
  {
   "cell_type": "code",
   "execution_count": null,
   "id": "8f975efa",
   "metadata": {},
   "outputs": [],
   "source": []
  },
  {
   "cell_type": "code",
   "execution_count": 37,
   "id": "93fb5c8f",
   "metadata": {},
   "outputs": [],
   "source": [
    "# Generate data\n",
    "# Number of iPhone sold by Roger each day\n",
    "NUM_DAYS = 1000\n",
    "MIN_VALUE = 0\n",
    "MAX_VALUE = 150"
   ]
  },
  {
   "cell_type": "markdown",
   "id": "72bad3bb",
   "metadata": {},
   "source": [
    "### Non-Uniform, Non-Gaussian distribution"
   ]
  },
  {
   "cell_type": "code",
   "execution_count": 38,
   "id": "83aa0bba",
   "metadata": {},
   "outputs": [
    {
     "name": "stdout",
     "output_type": "stream",
     "text": [
      "First 10 samples: [ 56 122   8  67  52  14 144  26  88  46]\n"
     ]
    }
   ],
   "source": [
    "# Define the range of integers and their probabilities\n",
    "integers = np.arange(MIN_VALUE, MAX_VALUE)  # integers from MIN_VALUE to MAX_VALUE\n",
    "weights = np.random.rand(len(integers))  # random weights for each integer\n",
    "probabilities = weights / np.sum(weights)  # normalize the weights to get probabilities\n",
    "\n",
    "# Generate random samples following the custom non-uniform distribution\n",
    "daily_iphone_sold = np.random.choice(integers, size=NUM_DAYS, p=probabilities)\n",
    "\n",
    "# Print the first 10 samples\n",
    "print(\"First 10 samples:\", daily_iphone_sold[:10])"
   ]
  },
  {
   "cell_type": "code",
   "execution_count": 39,
   "id": "85c366ed",
   "metadata": {},
   "outputs": [
    {
     "data": {
      "text/plain": [
       "70.347"
      ]
     },
     "execution_count": 39,
     "metadata": {},
     "output_type": "execute_result"
    }
   ],
   "source": [
    "daily_iphone_sold.mean()"
   ]
  },
  {
   "cell_type": "code",
   "execution_count": 40,
   "id": "9d542a0f",
   "metadata": {},
   "outputs": [
    {
     "data": {
      "text/plain": [
       "68.0"
      ]
     },
     "execution_count": 40,
     "metadata": {},
     "output_type": "execute_result"
    }
   ],
   "source": [
    "np.median(daily_iphone_sold)"
   ]
  },
  {
   "cell_type": "code",
   "execution_count": 41,
   "id": "e2ca9c94",
   "metadata": {},
   "outputs": [
    {
     "data": {
      "text/plain": [
       "ModeResult(mode=array([18]), count=array([21]))"
      ]
     },
     "execution_count": 41,
     "metadata": {},
     "output_type": "execute_result"
    }
   ],
   "source": [
    "st.mode(daily_iphone_sold)"
   ]
  },
  {
   "cell_type": "code",
   "execution_count": 42,
   "id": "42befdb2",
   "metadata": {},
   "outputs": [
    {
     "data": {
      "text/plain": [
       "(array([71, 84, 76, 96, 46, 65, 77, 52, 77, 62, 47, 58, 73, 65, 51]),\n",
       " array([  0.,  10.,  20.,  30.,  40.,  50.,  60.,  70.,  80.,  90., 100.,\n",
       "        110., 120., 130., 140., 150.]))"
      ]
     },
     "execution_count": 42,
     "metadata": {},
     "output_type": "execute_result"
    }
   ],
   "source": [
    "np.histogram(daily_iphone_sold, range=(MIN_VALUE, MAX_VALUE), bins=15)"
   ]
  },
  {
   "cell_type": "code",
   "execution_count": 43,
   "id": "3a26af47",
   "metadata": {},
   "outputs": [
    {
     "name": "stdout",
     "output_type": "stream",
     "text": [
      "Top 5 numbers with the highest appearance: [(18, 21), (26, 19), (4, 17), (39, 17), (129, 16)]\n"
     ]
    }
   ],
   "source": [
    "# Count the occurrences of each number using collections.Counter\n",
    "counter = Counter(daily_iphone_sold)\n",
    "# Get the top N numbers with the highest appearance\n",
    "N = 5\n",
    "top_n_numbers = counter.most_common(N)\n",
    "\n",
    "# Print the top N numbers\n",
    "print(f\"Top {N} numbers with the highest appearance: {top_n_numbers}\")"
   ]
  },
  {
   "cell_type": "code",
   "execution_count": 44,
   "id": "f24a22fc",
   "metadata": {},
   "outputs": [
    {
     "data": {
      "image/png": "[encoded data removed]",
      "text/plain": [
       "<Figure size 1080x432 with 1 Axes>"
      ]
     },
     "metadata": {
      "needs_background": "light"
     },
     "output_type": "display_data"
    }
   ],
   "source": [
    "plt.figure(figsize=(15, 6))\n",
    "# Plot the histogram\n",
    "plt.hist(daily_iphone_sold, bins=(MAX_VALUE-MIN_VALUE),range=(MIN_VALUE, MAX_VALUE), edgecolor='black', alpha=0.75)\n",
    "\n",
    "# Add labels and title\n",
    "plt.xlabel('Value')\n",
    "plt.ylabel('Frequency')\n",
    "plt.title('Histogram')\n",
    "\n",
    "plt.grid()\n",
    "# Show the plot\n",
    "plt.show()"
   ]
  },
  {
   "cell_type": "code",
   "execution_count": null,
   "id": "882a3e78",
   "metadata": {},
   "outputs": [],
   "source": []
  },
  {
   "cell_type": "code",
   "execution_count": null,
   "id": "b324ad50",
   "metadata": {},
   "outputs": [],
   "source": []
  },
  {
   "cell_type": "code",
   "execution_count": null,
   "id": "4fa83296",
   "metadata": {},
   "outputs": [],
   "source": []
  },
  {
   "cell_type": "code",
   "execution_count": null,
   "id": "e02ce0a1",
   "metadata": {},
   "outputs": [],
   "source": []
  },
  {
   "cell_type": "code",
   "execution_count": null,
   "id": "cd724a39",
   "metadata": {},
   "outputs": [],
   "source": []
  }
 ],
 "metadata": {
  "kernelspec": {
   "display_name": "Python 3 (ipykernel)",
   "language": "python",
   "name": "python3"
  },
  "language_info": {
   "codemirror_mode": {
    "name": "ipython",
    "version": 3
   },
   "file_extension": ".py",
   "mimetype": "text/x-python",
   "name": "python",
   "nbconvert_exporter": "python",
   "pygments_lexer": "ipython3",
   "version": "3.8.10"
  }
 },
 "nbformat": 4,
 "nbformat_minor": 5
}
